{
 "cells": [
  {
   "cell_type": "markdown",
   "metadata": {},
   "source": [
    "#### Importing the modules required"
   ]
  },
  {
   "cell_type": "code",
   "execution_count": 1,
   "metadata": {},
   "outputs": [],
   "source": [
    "#importing required modules\n",
    "import sys\n",
    "import json\n",
    "import numpy as np\n",
    "import pandas\n",
    "from random import shuffle"
   ]
  },
  {
   "cell_type": "markdown",
   "metadata": {},
   "source": [
    "#### Loading the dataset"
   ]
  },
  {
   "cell_type": "code",
   "execution_count": 2,
   "metadata": {},
   "outputs": [],
   "source": [
    "dataset_path = \"C:/Users/dhani/OneDrive/Desktop/BTP/Project Code/datasets/dataset_100ms.json\"\n",
    "\n",
    "with open(dataset_path) as dataset_file:\n",
    "    dataset = json.loads(dataset_file.read())"
   ]
  },
  {
   "cell_type": "markdown",
   "metadata": {},
   "source": [
    "#### EDA"
   ]
  },
  {
   "cell_type": "code",
   "execution_count": 3,
   "metadata": {},
   "outputs": [
    {
     "data": {
      "text/plain": [
       "33"
      ]
     },
     "execution_count": 3,
     "metadata": {},
     "output_type": "execute_result"
    }
   ],
   "source": [
    "len(dataset[\"events\"][\"PAPI_L3_TCM\"][\"mysqld_node\"][\"data\"])\n",
    "type(dataset[\"events\"][\"PAPI_L3_TCM\"][\"mysqld_node\"][\"data\"])\n",
    "len(dataset[\"events\"][\"PAPI_L3_TCM\"])"
   ]
  },
  {
   "cell_type": "markdown",
   "metadata": {},
   "source": [
    "#### Preprocessing The Dataset"
   ]
  },
  {
   "cell_type": "code",
   "execution_count": 4,
   "metadata": {},
   "outputs": [],
   "source": [
    "data = []\n",
    "labels = []"
   ]
  },
  {
   "cell_type": "code",
   "execution_count": 5,
   "metadata": {},
   "outputs": [],
   "source": [
    "data_TCM = []\n",
    "for process_type in dataset[\"events\"][\"PAPI_L3_TCM\"]:\n",
    "    temp = dataset[\"events\"][\"PAPI_L3_TCM\"][process_type][\"data\"]\n",
    "    Sum = sum(temp)\n",
    "    data_TCM.append(Sum/len(temp)/2)\n",
    "\n",
    "\n",
    "data_TCA = []\n",
    "for process_type in dataset[\"events\"][\"PAPI_L3_TCA\"]:\n",
    "    temp = dataset[\"events\"][\"PAPI_L3_TCA\"][process_type][\"data\"]\n",
    "    Sum = sum(temp)\n",
    "    data_TCA.append(Sum/len(temp)/2)\n",
    "\n",
    "\n",
    "data_INS = []\n",
    "for process_type in dataset[\"events\"][\"PAPI_TOT_INS\"]:\n",
    "    temp = dataset[\"events\"][\"PAPI_TOT_INS\"][process_type][\"data\"]\n",
    "    Sum = sum(temp)\n",
    "    data_INS.append(Sum/len(temp)/2)\n",
    "\n",
    "for process_type in dataset[\"events\"][\"PAPI_L3_TCM\"]:\n",
    "    labels.append(dataset[\"events\"][\"PAPI_L3_TCM\"][process_type][\"label\"])\n",
    "\n",
    "\n",
    "\n",
    "# data_TCM = []\n",
    "# for process_type in dataset[\"events\"][\"PAPI_L3_TCM\"]:\n",
    "#     temp = dataset[\"events\"][\"PAPI_L3_TCM\"][process_type][\"data\"]\n",
    "#     Sum = sum(temp)\n",
    "#     data_TCM.append(Sum)\n",
    "\n",
    "\n",
    "# data_TCA = []\n",
    "# for process_type in dataset[\"events\"][\"PAPI_L3_TCA\"]:\n",
    "#     temp = dataset[\"events\"][\"PAPI_L3_TCA\"][process_type][\"data\"]\n",
    "#     Sum = sum(temp)\n",
    "#     data_TCA.append(Sum)\n",
    "\n",
    "\n",
    "# data_INS = []\n",
    "# for process_type in dataset[\"events\"][\"PAPI_TOT_INS\"]:\n",
    "#     temp = dataset[\"events\"][\"PAPI_TOT_INS\"][process_type][\"data\"]\n",
    "#     Sum = sum(temp)\n",
    "#     data_INS.append(Sum)\n",
    "\n",
    "# for process_type in dataset[\"events\"][\"PAPI_L3_TCM\"]:\n",
    "#     labels.append(dataset[\"events\"][\"PAPI_L3_TCM\"][process_type][\"label\"])\n"
   ]
  },
  {
   "cell_type": "code",
   "execution_count": 6,
   "metadata": {},
   "outputs": [
    {
     "data": {
      "text/plain": [
       "[76.37604690117253,\n",
       " 0.0,\n",
       " 6034433.729480737,\n",
       " 23877490.076214407,\n",
       " 19307.038525963148,\n",
       " 0.0,\n",
       " 14809.588777219431,\n",
       " 27367.071189279734,\n",
       " 20231.69179229481,\n",
       " 13301.526800670017,\n",
       " 72022.01340033501,\n",
       " 16119.665829145728,\n",
       " 348.22780569514237,\n",
       " 32792.44891122278,\n",
       " 23880793.853433836,\n",
       " 8629039.850987433,\n",
       " 480976131.8931553,\n",
       " 6047013.425709516,\n",
       " 223260019.81671348,\n",
       " 459000312.8137931,\n",
       " 2202905.192821369,\n",
       " 3100037.99081803,\n",
       " 0.0,\n",
       " 0.0,\n",
       " 31248089.91736227,\n",
       " 0.0,\n",
       " 31488280.66360601,\n",
       " 3.6502504173622703,\n",
       " 113508735.64548495,\n",
       " 31.892976588628763,\n",
       " 570895996.6641667,\n",
       " 52115339.48495575,\n",
       " 2978683.779632721]"
      ]
     },
     "execution_count": 6,
     "metadata": {},
     "output_type": "execute_result"
    }
   ],
   "source": [
    "data_TCM\n",
    "data_TCA\n",
    "data_INS"
   ]
  },
  {
   "cell_type": "code",
   "execution_count": 7,
   "metadata": {},
   "outputs": [],
   "source": [
    "for i in range(0,len(data_TCA)):\n",
    "    data.append([data_TCM[i],data_TCA[i],data_INS[i]])"
   ]
  },
  {
   "cell_type": "code",
   "execution_count": 8,
   "metadata": {},
   "outputs": [
    {
     "data": {
      "text/plain": [
       "[0,\n",
       " 0,\n",
       " 0,\n",
       " 0,\n",
       " 0,\n",
       " 0,\n",
       " 0,\n",
       " 0,\n",
       " 0,\n",
       " 0,\n",
       " 0,\n",
       " 0,\n",
       " 0,\n",
       " 0,\n",
       " 0,\n",
       " 1,\n",
       " 0,\n",
       " 0,\n",
       " 1,\n",
       " 1,\n",
       " 0,\n",
       " 0,\n",
       " 0,\n",
       " 0,\n",
       " 0,\n",
       " 0,\n",
       " 0,\n",
       " 0,\n",
       " 0,\n",
       " 0,\n",
       " 1,\n",
       " 1,\n",
       " 0]"
      ]
     },
     "execution_count": 8,
     "metadata": {},
     "output_type": "execute_result"
    }
   ],
   "source": [
    "data\n",
    "labels"
   ]
  },
  {
   "cell_type": "markdown",
   "metadata": {},
   "source": [
    "#### Normalising the Data"
   ]
  },
  {
   "cell_type": "code",
   "execution_count": 9,
   "metadata": {},
   "outputs": [],
   "source": [
    "import matplotlib.pyplot as plt\n",
    "from sklearn.preprocessing import StandardScaler"
   ]
  },
  {
   "cell_type": "code",
   "execution_count": 10,
   "metadata": {},
   "outputs": [
    {
     "data": {
      "text/plain": [
       "(array([28.,  0.,  0.,  0.,  0.,  0.,  0.,  0.,  0.,  5.]),\n",
       " array([0. , 0.1, 0.2, 0.3, 0.4, 0.5, 0.6, 0.7, 0.8, 0.9, 1. ]),\n",
       " <BarContainer object of 10 artists>)"
      ]
     },
     "execution_count": 10,
     "metadata": {},
     "output_type": "execute_result"
    },
    {
     "data": {
      "image/png": "[encoded data removed]",
      "text/plain": [
       "<Figure size 640x480 with 1 Axes>"
      ]
     },
     "metadata": {},
     "output_type": "display_data"
    }
   ],
   "source": [
    "plt.hist(labels)"
   ]
  },
  {
   "cell_type": "code",
   "execution_count": 11,
   "metadata": {},
   "outputs": [
    {
     "data": {
      "text/plain": [
       "array([[4.00887772e+01, 6.31298157e+01, 7.63760469e+01],\n",
       "       [0.00000000e+00, 0.00000000e+00, 0.00000000e+00],\n",
       "       [6.28785653e+04, 3.61230728e+05, 6.03443373e+06],\n",
       "       [2.43688204e+05, 1.42407881e+06, 2.38774901e+07],\n",
       "       [5.58897487e+03, 9.41129481e+03, 1.93070385e+04],\n",
       "       [0.00000000e+00, 0.00000000e+00, 0.00000000e+00],\n",
       "       [1.75742630e+03, 4.80982915e+03, 1.48095888e+04],\n",
       "       [3.15196650e+03, 8.71576214e+03, 2.73670712e+04],\n",
       "       [2.38018593e+03, 6.48474037e+03, 2.02316918e+04],\n",
       "       [1.55275796e+03, 4.18727638e+03, 1.33015268e+04],\n",
       "       [8.24624372e+03, 2.31415352e+04, 7.20220134e+04],\n",
       "       [1.89187102e+03, 5.20834003e+03, 1.61196658e+04],\n",
       "       [5.69212730e+01, 9.94237856e+01, 3.48227806e+02],\n",
       "       [3.72050335e+03, 1.06315017e+04, 3.27924489e+04],\n",
       "       [2.44709043e+05, 1.41604846e+06, 2.38807939e+07],\n",
       "       [8.68707280e+04, 6.45272357e+05, 8.62903985e+06],\n",
       "       [7.71762104e+02, 8.35036728e+02, 4.80976132e+08],\n",
       "       [5.07079132e+04, 3.50457065e+05, 6.04701343e+06],\n",
       "       [1.16891039e+06, 1.53556517e+07, 2.23260020e+08],\n",
       "       [1.87413222e+06, 4.24990182e+06, 4.59000313e+08],\n",
       "       [4.28672538e+03, 4.86378044e+05, 2.20290519e+06],\n",
       "       [1.51692994e+05, 4.09495177e+05, 3.10003799e+06],\n",
       "       [0.00000000e+00, 0.00000000e+00, 0.00000000e+00],\n",
       "       [0.00000000e+00, 0.00000000e+00, 0.00000000e+00],\n",
       "       [4.54657101e+05, 1.12163596e+06, 3.12480899e+07],\n",
       "       [0.00000000e+00, 0.00000000e+00, 0.00000000e+00],\n",
       "       [6.45473412e+05, 2.13426493e+06, 3.14882807e+07],\n",
       "       [5.82178631e+01, 6.71310518e+01, 3.65025042e+00],\n",
       "       [8.86931961e+05, 5.69855181e+06, 1.13508736e+08],\n",
       "       [9.27842809e+00, 1.56279264e+01, 3.18929766e+01],\n",
       "       [3.34973764e+06, 4.87667636e+06, 5.70895997e+08],\n",
       "       [3.91396641e+05, 5.09142376e+05, 5.21153395e+07],\n",
       "       [5.94947302e+05, 7.21644833e+05, 2.97868378e+06]])"
      ]
     },
     "execution_count": 11,
     "metadata": {},
     "output_type": "execute_result"
    }
   ],
   "source": [
    "Data = np.array(data)\n",
    "Data"
   ]
  },
  {
   "cell_type": "code",
   "execution_count": 12,
   "metadata": {},
   "outputs": [],
   "source": [
    "shuffled_data = []\n",
    "shuffled_labels = []\n",
    "\n",
    "indexes = list(range(len(data)))\n",
    "shuffle(indexes)\n",
    "\n",
    "for index in indexes:\n",
    "    shuffled_data.append(data[index])\n",
    "    shuffled_labels.append(labels[index])\n",
    "\n",
    "Data = shuffled_data\n",
    "labels = shuffled_labels"
   ]
  },
  {
   "cell_type": "code",
   "execution_count": 13,
   "metadata": {},
   "outputs": [
    {
     "data": {
      "text/plain": [
       "array([[-0.0988318 ,  0.0753398 , -0.25843714],\n",
       "       [-0.45752794, -0.41730946, -0.42104162],\n",
       "       [-0.45680354, -0.41686627, -0.42101359],\n",
       "       [-0.46033446, -0.41911785, -0.42115146],\n",
       "       [-0.46025002, -0.41908333, -0.42114909],\n",
       "       [ 0.12028834, -0.24233737, -0.06600893],\n",
       "       [-0.23530338, -0.2769361 , -0.4000261 ],\n",
       "       [ 0.42224841, -0.1685539 , -0.40085308],\n",
       "       [ 0.49720207,  0.32192515, -0.20657303],\n",
       "       [-0.46033446, -0.41911785, -0.42115146],\n",
       "       [ 1.27370196,  4.91255305,  1.1002649 ],\n",
       "       [-0.45918958, -0.41882792,  2.85648399],\n",
       "       [-0.4603207 , -0.41911243, -0.42115125],\n",
       "       [-0.45772738, -0.41744782, -0.42105054],\n",
       "       [-0.4602481 , -0.41909455, -0.42115144],\n",
       "       [-0.46027499, -0.41909594, -0.42115094],\n",
       "       [-0.33146487, -0.19507137, -0.36234845],\n",
       "       [-0.36705638, -0.29369411, -0.38002952],\n",
       "       [-0.3851111 , -0.29743486, -0.37994379],\n",
       "       [-0.09731742,  0.07255156, -0.25841462],\n",
       "       [-0.46033446, -0.41911785, -0.42115146],\n",
       "       [-0.458031  , -0.41766398, -0.42106082],\n",
       "       [-0.46033446, -0.41911785, -0.42115146],\n",
       "       [-0.46033446, -0.41911785, -0.42115146],\n",
       "       [ 4.50888055,  1.27412408,  3.46924732],\n",
       "       [ 0.85539712,  1.55948933,  0.35235939],\n",
       "       [-0.45565863, -0.41609164, -0.42096497],\n",
       "       [-0.45481523, -0.41542647, -0.420928  ],\n",
       "       [ 0.21413295, -0.02967207, -0.20820982],\n",
       "       [-0.45204342, -0.41585014, -0.4210199 ],\n",
       "       [ 2.31987312,  1.05650026,  2.70672869],\n",
       "       [-0.45397526, -0.25024142, -0.40613966],\n",
       "       [-0.44810146, -0.41108283, -0.42066067]])"
      ]
     },
     "execution_count": 13,
     "metadata": {},
     "output_type": "execute_result"
    }
   ],
   "source": [
    "Scaled_data = StandardScaler().fit_transform(Data)\n",
    "Scaled_data"
   ]
  },
  {
   "cell_type": "markdown",
   "metadata": {},
   "source": [
    "#### XGBoost Model Creation"
   ]
  },
  {
   "cell_type": "code",
   "execution_count": 14,
   "metadata": {},
   "outputs": [],
   "source": [
    "#Splitting the Data to Training and testing Data\n",
    "from sklearn.model_selection import train_test_split\n",
    "X_train, X_test, y_train, y_test = train_test_split(np.array(Scaled_data),np.array(labels), test_size=0.3, random_state=42,shuffle=False)"
   ]
  },
  {
   "cell_type": "code",
   "execution_count": 15,
   "metadata": {},
   "outputs": [],
   "source": [
    "from numpy import loadtxt\n",
    "from xgboost import XGBClassifier"
   ]
  },
  {
   "cell_type": "code",
   "execution_count": 16,
   "metadata": {},
   "outputs": [
    {
     "data": {
      "text/html": [
       "<style>#sk-container-id-1 {color: black;}#sk-container-id-1 pre{padding: 0;}#sk-container-id-1 div.sk-toggleable {background-color: white;}#sk-container-id-1 label.sk-toggleable__label {cursor: pointer;display: block;width: 100%;margin-bottom: 0;padding: 0.3em;box-sizing: border-box;text-align: center;}#sk-container-id-1 label.sk-toggleable__label-arrow:before {content: \"▸\";float: left;margin-right: 0.25em;color: #696969;}#sk-container-id-1 label.sk-toggleable__label-arrow:hover:before {color: black;}#sk-container-id-1 div.sk-estimator:hover label.sk-toggleable__label-arrow:before {color: black;}#sk-container-id-1 div.sk-toggleable__content {max-height: 0;max-width: 0;overflow: hidden;text-align: left;background-color: #f0f8ff;}#sk-container-id-1 div.sk-toggleable__content pre {margin: 0.2em;color: black;border-radius: 0.25em;background-color: #f0f8ff;}#sk-container-id-1 input.sk-toggleable__control:checked~div.sk-toggleable__content {max-height: 200px;max-width: 100%;overflow: auto;}#sk-container-id-1 input.sk-toggleable__control:checked~label.sk-toggleable__label-arrow:before {content: \"▾\";}#sk-container-id-1 div.sk-estimator input.sk-toggleable__control:checked~label.sk-toggleable__label {background-color: #d4ebff;}#sk-container-id-1 div.sk-label input.sk-toggleable__control:checked~label.sk-toggleable__label {background-color: #d4ebff;}#sk-container-id-1 input.sk-hidden--visually {border: 0;clip: rect(1px 1px 1px 1px);clip: rect(1px, 1px, 1px, 1px);height: 1px;margin: -1px;overflow: hidden;padding: 0;position: absolute;width: 1px;}#sk-container-id-1 div.sk-estimator {font-family: monospace;background-color: #f0f8ff;border: 1px dotted black;border-radius: 0.25em;box-sizing: border-box;margin-bottom: 0.5em;}#sk-container-id-1 div.sk-estimator:hover {background-color: #d4ebff;}#sk-container-id-1 div.sk-parallel-item::after {content: \"\";width: 100%;border-bottom: 1px solid gray;flex-grow: 1;}#sk-container-id-1 div.sk-label:hover label.sk-toggleable__label {background-color: #d4ebff;}#sk-container-id-1 div.sk-serial::before {content: \"\";position: absolute;border-left: 1px solid gray;box-sizing: border-box;top: 0;bottom: 0;left: 50%;z-index: 0;}#sk-container-id-1 div.sk-serial {display: flex;flex-direction: column;align-items: center;background-color: white;padding-right: 0.2em;padding-left: 0.2em;position: relative;}#sk-container-id-1 div.sk-item {position: relative;z-index: 1;}#sk-container-id-1 div.sk-parallel {display: flex;align-items: stretch;justify-content: center;background-color: white;position: relative;}#sk-container-id-1 div.sk-item::before, #sk-container-id-1 div.sk-parallel-item::before {content: \"\";position: absolute;border-left: 1px solid gray;box-sizing: border-box;top: 0;bottom: 0;left: 50%;z-index: -1;}#sk-container-id-1 div.sk-parallel-item {display: flex;flex-direction: column;z-index: 1;position: relative;background-color: white;}#sk-container-id-1 div.sk-parallel-item:first-child::after {align-self: flex-end;width: 50%;}#sk-container-id-1 div.sk-parallel-item:last-child::after {align-self: flex-start;width: 50%;}#sk-container-id-1 div.sk-parallel-item:only-child::after {width: 0;}#sk-container-id-1 div.sk-dashed-wrapped {border: 1px dashed gray;margin: 0 0.4em 0.5em 0.4em;box-sizing: border-box;padding-bottom: 0.4em;background-color: white;}#sk-container-id-1 div.sk-label label {font-family: monospace;font-weight: bold;display: inline-block;line-height: 1.2em;}#sk-container-id-1 div.sk-label-container {text-align: center;}#sk-container-id-1 div.sk-container {/* jupyter's `normalize.less` sets `[hidden] { display: none; }` but bootstrap.min.css set `[hidden] { display: none !important; }` so we also need the `!important` here to be able to override the default hidden behavior on the sphinx rendered scikit-learn.org. See: https://github.com/scikit-learn/scikit-learn/issues/21755 */display: inline-block !important;position: relative;}#sk-container-id-1 div.sk-text-repr-fallback {display: none;}</style><div id=\"sk-container-id-1\" class=\"sk-top-container\"><div class=\"sk-text-repr-fallback\"><pre>XGBClassifier(base_score=None, booster=None, callbacks=None,\n",
       "              colsample_bylevel=None, colsample_bynode=None,\n",
       "              colsample_bytree=None, device=None, early_stopping_rounds=None,\n",
       "              enable_categorical=False, eval_metric=None, feature_types=None,\n",
       "              gamma=0.15, grow_policy=None, importance_type=None,\n",
       "              interaction_constraints=None, learning_rate=None, max_bin=None,\n",
       "              max_cat_threshold=None, max_cat_to_onehot=None,\n",
       "              max_delta_step=None, max_depth=None, max_leaves=None,\n",
       "              min_child_weight=None, missing=nan, monotone_constraints=None,\n",
       "              multi_strategy=None, n_estimators=None, n_jobs=None,\n",
       "              num_parallel_tree=None, random_state=None, ...)</pre><b>In a Jupyter environment, please rerun this cell to show the HTML representation or trust the notebook. <br />On GitHub, the HTML representation is unable to render, please try loading this page with nbviewer.org.</b></div><div class=\"sk-container\" hidden><div class=\"sk-item\"><div class=\"sk-estimator sk-toggleable\"><input class=\"sk-toggleable__control sk-hidden--visually\" id=\"sk-estimator-id-1\" type=\"checkbox\" checked><label for=\"sk-estimator-id-1\" class=\"sk-toggleable__label sk-toggleable__label-arrow\">XGBClassifier</label><div class=\"sk-toggleable__content\"><pre>XGBClassifier(base_score=None, booster=None, callbacks=None,\n",
       "              colsample_bylevel=None, colsample_bynode=None,\n",
       "              colsample_bytree=None, device=None, early_stopping_rounds=None,\n",
       "              enable_categorical=False, eval_metric=None, feature_types=None,\n",
       "              gamma=0.15, grow_policy=None, importance_type=None,\n",
       "              interaction_constraints=None, learning_rate=None, max_bin=None,\n",
       "              max_cat_threshold=None, max_cat_to_onehot=None,\n",
       "              max_delta_step=None, max_depth=None, max_leaves=None,\n",
       "              min_child_weight=None, missing=nan, monotone_constraints=None,\n",
       "              multi_strategy=None, n_estimators=None, n_jobs=None,\n",
       "              num_parallel_tree=None, random_state=None, ...)</pre></div></div></div></div></div>"
      ],
      "text/plain": [
       "XGBClassifier(base_score=None, booster=None, callbacks=None,\n",
       "              colsample_bylevel=None, colsample_bynode=None,\n",
       "              colsample_bytree=None, device=None, early_stopping_rounds=None,\n",
       "              enable_categorical=False, eval_metric=None, feature_types=None,\n",
       "              gamma=0.15, grow_policy=None, importance_type=None,\n",
       "              interaction_constraints=None, learning_rate=None, max_bin=None,\n",
       "              max_cat_threshold=None, max_cat_to_onehot=None,\n",
       "              max_delta_step=None, max_depth=None, max_leaves=None,\n",
       "              min_child_weight=None, missing=nan, monotone_constraints=None,\n",
       "              multi_strategy=None, n_estimators=None, n_jobs=None,\n",
       "              num_parallel_tree=None, random_state=None, ...)"
      ]
     },
     "execution_count": 16,
     "metadata": {},
     "output_type": "execute_result"
    }
   ],
   "source": [
    "# fit model training data\n",
    "model_xgb = XGBClassifier(gamma=0.15)\n",
    "model_xgb.fit(X_train, y_train)"
   ]
  },
  {
   "cell_type": "code",
   "execution_count": 17,
   "metadata": {},
   "outputs": [],
   "source": [
    "# make predictions for test data\n",
    "predictions_xgb = model_xgb.predict(X_test)\n",
    "predictions_xgb = [round(value) for value in predictions_xgb]"
   ]
  },
  {
   "cell_type": "code",
   "execution_count": 18,
   "metadata": {},
   "outputs": [],
   "source": [
    "from sklearn.metrics import accuracy_score\n",
    "from sklearn.metrics import f1_score\n",
    "from sklearn.metrics import recall_score\n",
    "from sklearn.metrics import precision_score\n",
    "from sklearn.metrics import confusion_matrix\n",
    "from sklearn.metrics import mean_squared_error\n",
    "import seaborn as sns"
   ]
  },
  {
   "cell_type": "code",
   "execution_count": 19,
   "metadata": {},
   "outputs": [
    {
     "name": "stdout",
     "output_type": "stream",
     "text": [
      "Accuracy is : 0.8\n",
      "F1-Score is : 0.7111111111111111\n",
      "Recall is : 0.8\n",
      "Precision is : 0.8400000000000001\n",
      "Mean Squared Error : 0.4472135954999579\n"
     ]
    }
   ],
   "source": [
    "print(\"Accuracy is : \",end=\"\")\n",
    "print(accuracy_score(y_test, predictions_xgb))\n",
    "\n",
    "print(\"F1-Score is : \",end=\"\")\n",
    "print(f1_score(y_test, predictions_xgb,average='weighted'))\n",
    "\n",
    "print(\"Recall is : \",end=\"\")\n",
    "print(recall_score(y_test, predictions_xgb,average='weighted'))\n",
    "\n",
    "print(\"Precision is : \",end=\"\")\n",
    "print(precision_score(y_test, predictions_xgb, average='weighted',zero_division=1))\n",
    "\n",
    "print(\"Mean Squared Error : \",end=\"\")\n",
    "print(mean_squared_error(y_test, predictions_xgb, squared=False))"
   ]
  },
  {
   "cell_type": "code",
   "execution_count": 20,
   "metadata": {},
   "outputs": [
    {
     "name": "stdout",
     "output_type": "stream",
     "text": [
      "F1-Score is : 0.7111111111111111\n"
     ]
    }
   ],
   "source": [
    "print(\"F1-Score is : \",end=\"\")\n",
    "print(f1_score(y_test, predictions_xgb,average='weighted'))"
   ]
  },
  {
   "cell_type": "code",
   "execution_count": 21,
   "metadata": {},
   "outputs": [
    {
     "data": {
      "text/plain": [
       "0.8"
      ]
     },
     "execution_count": 21,
     "metadata": {},
     "output_type": "execute_result"
    }
   ],
   "source": [
    "recall_score(y_test, predictions_xgb, average='weighted')"
   ]
  },
  {
   "cell_type": "code",
   "execution_count": 22,
   "metadata": {},
   "outputs": [
    {
     "name": "stderr",
     "output_type": "stream",
     "text": [
      "C:\\Users\\dhani\\AppData\\Local\\Packages\\PythonSoftwareFoundation.Python.3.11_qbz5n2kfra8p0\\LocalCache\\local-packages\\Python311\\site-packages\\sklearn\\metrics\\_classification.py:1469: UndefinedMetricWarning: Precision is ill-defined and being set to 0.0 in labels with no predicted samples. Use `zero_division` parameter to control this behavior.\n",
      "  _warn_prf(average, modifier, msg_start, len(result))\n"
     ]
    },
    {
     "data": {
      "text/plain": [
       "0.64"
      ]
     },
     "execution_count": 22,
     "metadata": {},
     "output_type": "execute_result"
    }
   ],
   "source": [
    "precision_score(y_test, predictions_xgb, average='weighted')"
   ]
  },
  {
   "cell_type": "code",
   "execution_count": 23,
   "metadata": {},
   "outputs": [
    {
     "data": {
      "text/plain": [
       "array([[8, 0],\n",
       "       [2, 0]], dtype=int64)"
      ]
     },
     "execution_count": 23,
     "metadata": {},
     "output_type": "execute_result"
    }
   ],
   "source": [
    "cf_matrix = confusion_matrix(y_test, predictions_xgb)\n",
    "cf_matrix"
   ]
  },
  {
   "cell_type": "code",
   "execution_count": 24,
   "metadata": {},
   "outputs": [
    {
     "data": {
      "text/plain": [
       "<Axes: >"
      ]
     },
     "execution_count": 24,
     "metadata": {},
     "output_type": "execute_result"
    },
    {
     "data": {
      "image/png": "[encoded data removed]",
      "text/plain": [
       "<Figure size 640x480 with 2 Axes>"
      ]
     },
     "metadata": {},
     "output_type": "display_data"
    }
   ],
   "source": [
    "sns.heatmap(cf_matrix/np.sum(cf_matrix), annot=True, cmap='Blues')"
   ]
  },
  {
   "cell_type": "code",
   "execution_count": 25,
   "metadata": {},
   "outputs": [],
   "source": [
    "import pickle"
   ]
  },
  {
   "cell_type": "code",
   "execution_count": 26,
   "metadata": {},
   "outputs": [],
   "source": [
    "pickle.dump(model_xgb, open('model_xgb.pkl','wb'))"
   ]
  }
 ],
 "metadata": {
  "kernelspec": {
   "display_name": "Python 3",
   "language": "python",
   "name": "python3"
  },
  "language_info": {
   "codemirror_mode": {
    "name": "ipython",
    "version": 3
   },
   "file_extension": ".py",
   "mimetype": "text/x-python",
   "name": "python",
   "nbconvert_exporter": "python",
   "pygments_lexer": "ipython3",
   "version": "3.11.6"
  }
 },
 "nbformat": 4,
 "nbformat_minor": 2
}
